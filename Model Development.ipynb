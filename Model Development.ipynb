{
  "metadata": {
    "kernelspec": {
      "name": "python",
      "display_name": "Pyolite",
      "language": "python"
    },
    "language_info": {
      "codemirror_mode": {
        "name": "python",
        "version": 3
      },
      "file_extension": ".py",
      "mimetype": "text/x-python",
      "name": "python",
      "nbconvert_exporter": "python",
      "pygments_lexer": "ipython3",
      "version": "3.8"
    }
  },
  "nbformat_minor": 4,
  "nbformat": 4,
  "cells": [
    {
      "cell_type": "markdown",
      "source": "# Model Development\n\n## Objectives\n\nAfter completing this lab you will be able to:\n\n*   Develop prediction models\n",
      "metadata": {}
    },
    {
      "cell_type": "markdown",
      "source": "<p>In this section, we will develop several models that will predict the price of the car using the variables or features. This is just an estimate but should give us an objective idea of how much the car should cost.</p>\n",
      "metadata": {}
    },
    {
      "cell_type": "markdown",
      "source": "Some questions we want to ask in this module\n\n<ul>\n    <li>Do I know if the dealer is offering fair value for my trade-in?</li>\n    <li>Do I know if I put a fair value on my car?</li>\n</ul>\n<p>In data analytics, we often use <b>Model Development</b> to help us predict future observations from the data we have.</p>\n\n<p>A model will help us understand the exact relationship between different variables and how these variables are used to predict the result.</p>\n",
      "metadata": {}
    },
    {
      "cell_type": "markdown",
      "source": "<h4>Setup</h4>\n",
      "metadata": {}
    },
    {
      "cell_type": "markdown",
      "source": "Import libraries:\n",
      "metadata": {}
    },
    {
      "cell_type": "markdown",
      "source": "you are running the lab in your  browser, so we will install the libraries using `piplite`\n",
      "metadata": {}
    },
    {
      "cell_type": "code",
      "source": "#you are running the lab in your  browser, so we will install the libraries using ``piplite``\nimport piplite\nawait piplite.install(['pandas'])\nawait piplite.install(['matplotlib'])\nawait piplite.install(['scipy'])\nawait piplite.install(['seaborn'])\nawait piplite.install(['scikit-learn'])\n",
      "metadata": {
        "trusted": true
      },
      "execution_count": 1,
      "outputs": []
    },
    {
      "cell_type": "markdown",
      "source": "If you run the lab locally using Anaconda, you can load the correct library and versions by uncommenting the following:\n",
      "metadata": {}
    },
    {
      "cell_type": "code",
      "source": "#If you run the lab locally using Anaconda, you can load the correct library and versions by uncommenting the following:\n#install specific version of libraries used in lab\n#! mamba install pandas==1.3.3-y\n#! mamba install numpy=1.21.2-y\n#! mamba install sklearn=0.20.1-y",
      "metadata": {
        "trusted": true
      },
      "execution_count": null,
      "outputs": []
    },
    {
      "cell_type": "code",
      "source": "import pandas as pd\nimport numpy as np\nimport matplotlib.pyplot as plt",
      "metadata": {
        "trusted": true
      },
      "execution_count": 2,
      "outputs": [
        {
          "name": "stderr",
          "text": "/lib/python3.9/site-packages/pandas/compat/__init__.py:124: UserWarning: Could not import the lzma module. Your installed Python is incomplete. Attempting to use lzma compression will result in a RuntimeError.\n  warnings.warn(msg)\n",
          "output_type": "stream"
        }
      ]
    },
    {
      "cell_type": "markdown",
      "source": "This function will download the dataset into your browser\n",
      "metadata": {}
    },
    {
      "cell_type": "code",
      "source": "#This function will download the dataset into your browser \n\nfrom pyodide.http import pyfetch\n\nasync def download(url, filename):\n    response = await pyfetch(url)\n    if response.status == 200:\n        with open(filename, \"wb\") as f:\n            f.write(await response.bytes())",
      "metadata": {
        "trusted": true
      },
      "execution_count": 3,
      "outputs": []
    },
    {
      "cell_type": "markdown",
      "source": "This dataset was hosted on IBM Cloud object. Click <a href=\"https://cocl.us/DA101EN_object_storage?utm_medium=Exinfluencer&utm_source=Exinfluencer&utm_content=000026UJ&utm_term=10006555&utm_id=NA-SkillsNetwork-Channel-SkillsNetworkCoursesIBMDeveloperSkillsNetworkDA0101ENSkillsNetwork20235326-2021-01-01\">HERE</a> for free storage.\n",
      "metadata": {}
    },
    {
      "cell_type": "code",
      "source": "path = 'https://cf-courses-data.s3.us.cloud-object-storage.appdomain.cloud/IBMDeveloperSkillsNetwork-DA0101EN-SkillsNetwork/labs/Data%20files/automobileEDA.csv'",
      "metadata": {
        "trusted": true
      },
      "execution_count": 4,
      "outputs": []
    },
    {
      "cell_type": "markdown",
      "source": "you will need to download the dataset; if you are running locally, please comment out the following\n",
      "metadata": {}
    },
    {
      "cell_type": "code",
      "source": "#you will need to download the dataset; if you are running locally, please comment out the following \nawait download(path, \"auto.csv\")\npath=\"auto.csv\"",
      "metadata": {
        "trusted": true
      },
      "execution_count": 5,
      "outputs": []
    },
    {
      "cell_type": "markdown",
      "source": "Load the data and store it in dataframe `df`:\n",
      "metadata": {}
    },
    {
      "cell_type": "code",
      "source": "df = pd.read_csv(path)\ndf.head()",
      "metadata": {
        "trusted": true
      },
      "execution_count": 6,
      "outputs": [
        {
          "execution_count": 6,
          "output_type": "execute_result",
          "data": {
            "text/plain": "   symboling  normalized-losses         make aspiration num-of-doors  \\\n0          3                122  alfa-romero        std          two   \n1          3                122  alfa-romero        std          two   \n2          1                122  alfa-romero        std          two   \n3          2                164         audi        std         four   \n4          2                164         audi        std         four   \n\n    body-style drive-wheels engine-location  wheel-base    length  ...  \\\n0  convertible          rwd           front        88.6  0.811148  ...   \n1  convertible          rwd           front        88.6  0.811148  ...   \n2    hatchback          rwd           front        94.5  0.822681  ...   \n3        sedan          fwd           front        99.8  0.848630  ...   \n4        sedan          4wd           front        99.4  0.848630  ...   \n\n   compression-ratio  horsepower  peak-rpm city-mpg highway-mpg    price  \\\n0                9.0       111.0    5000.0       21          27  13495.0   \n1                9.0       111.0    5000.0       21          27  16500.0   \n2                9.0       154.0    5000.0       19          26  16500.0   \n3               10.0       102.0    5500.0       24          30  13950.0   \n4                8.0       115.0    5500.0       18          22  17450.0   \n\n  city-L/100km  horsepower-binned  diesel  gas  \n0    11.190476             Medium       0    1  \n1    11.190476             Medium       0    1  \n2    12.368421             Medium       0    1  \n3     9.791667             Medium       0    1  \n4    13.055556             Medium       0    1  \n\n[5 rows x 29 columns]",
            "text/html": "<div>\n<style scoped>\n    .dataframe tbody tr th:only-of-type {\n        vertical-align: middle;\n    }\n\n    .dataframe tbody tr th {\n        vertical-align: top;\n    }\n\n    .dataframe thead th {\n        text-align: right;\n    }\n</style>\n<table border=\"1\" class=\"dataframe\">\n  <thead>\n    <tr style=\"text-align: right;\">\n      <th></th>\n      <th>symboling</th>\n      <th>normalized-losses</th>\n      <th>make</th>\n      <th>aspiration</th>\n      <th>num-of-doors</th>\n      <th>body-style</th>\n      <th>drive-wheels</th>\n      <th>engine-location</th>\n      <th>wheel-base</th>\n      <th>length</th>\n      <th>...</th>\n      <th>compression-ratio</th>\n      <th>horsepower</th>\n      <th>peak-rpm</th>\n      <th>city-mpg</th>\n      <th>highway-mpg</th>\n      <th>price</th>\n      <th>city-L/100km</th>\n      <th>horsepower-binned</th>\n      <th>diesel</th>\n      <th>gas</th>\n    </tr>\n  </thead>\n  <tbody>\n    <tr>\n      <th>0</th>\n      <td>3</td>\n      <td>122</td>\n      <td>alfa-romero</td>\n      <td>std</td>\n      <td>two</td>\n      <td>convertible</td>\n      <td>rwd</td>\n      <td>front</td>\n      <td>88.6</td>\n      <td>0.811148</td>\n      <td>...</td>\n      <td>9.0</td>\n      <td>111.0</td>\n      <td>5000.0</td>\n      <td>21</td>\n      <td>27</td>\n      <td>13495.0</td>\n      <td>11.190476</td>\n      <td>Medium</td>\n      <td>0</td>\n      <td>1</td>\n    </tr>\n    <tr>\n      <th>1</th>\n      <td>3</td>\n      <td>122</td>\n      <td>alfa-romero</td>\n      <td>std</td>\n      <td>two</td>\n      <td>convertible</td>\n      <td>rwd</td>\n      <td>front</td>\n      <td>88.6</td>\n      <td>0.811148</td>\n      <td>...</td>\n      <td>9.0</td>\n      <td>111.0</td>\n      <td>5000.0</td>\n      <td>21</td>\n      <td>27</td>\n      <td>16500.0</td>\n      <td>11.190476</td>\n      <td>Medium</td>\n      <td>0</td>\n      <td>1</td>\n    </tr>\n    <tr>\n      <th>2</th>\n      <td>1</td>\n      <td>122</td>\n      <td>alfa-romero</td>\n      <td>std</td>\n      <td>two</td>\n      <td>hatchback</td>\n      <td>rwd</td>\n      <td>front</td>\n      <td>94.5</td>\n      <td>0.822681</td>\n      <td>...</td>\n      <td>9.0</td>\n      <td>154.0</td>\n      <td>5000.0</td>\n      <td>19</td>\n      <td>26</td>\n      <td>16500.0</td>\n      <td>12.368421</td>\n      <td>Medium</td>\n      <td>0</td>\n      <td>1</td>\n    </tr>\n    <tr>\n      <th>3</th>\n      <td>2</td>\n      <td>164</td>\n      <td>audi</td>\n      <td>std</td>\n      <td>four</td>\n      <td>sedan</td>\n      <td>fwd</td>\n      <td>front</td>\n      <td>99.8</td>\n      <td>0.848630</td>\n      <td>...</td>\n      <td>10.0</td>\n      <td>102.0</td>\n      <td>5500.0</td>\n      <td>24</td>\n      <td>30</td>\n      <td>13950.0</td>\n      <td>9.791667</td>\n      <td>Medium</td>\n      <td>0</td>\n      <td>1</td>\n    </tr>\n    <tr>\n      <th>4</th>\n      <td>2</td>\n      <td>164</td>\n      <td>audi</td>\n      <td>std</td>\n      <td>four</td>\n      <td>sedan</td>\n      <td>4wd</td>\n      <td>front</td>\n      <td>99.4</td>\n      <td>0.848630</td>\n      <td>...</td>\n      <td>8.0</td>\n      <td>115.0</td>\n      <td>5500.0</td>\n      <td>18</td>\n      <td>22</td>\n      <td>17450.0</td>\n      <td>13.055556</td>\n      <td>Medium</td>\n      <td>0</td>\n      <td>1</td>\n    </tr>\n  </tbody>\n</table>\n<p>5 rows × 29 columns</p>\n</div>"
          },
          "metadata": {}
        }
      ]
    },
    {
      "cell_type": "markdown",
      "source": "<h2>1. Linear Regression and Multiple Linear Regression</h2>\n",
      "metadata": {}
    },
    {
      "cell_type": "markdown",
      "source": "<h4>Linear Regression</h4>\n",
      "metadata": {}
    },
    {
      "cell_type": "markdown",
      "source": "<p>One example of a Data  Model that we will be using is:</p>\n<b>Simple Linear Regression</b>\n\n<br>\n<p>Simple Linear Regression is a method to help us understand the relationship between two variables:</p>\n<ul>\n    <li>The predictor/independent variable (X)</li>\n    <li>The response/dependent variable (that we want to predict)(Y)</li>\n</ul>\n\n<p>The result of Linear Regression is a <b>linear function</b> that predicts the response (dependent) variable as a function of the predictor (independent) variable.</p>\n",
      "metadata": {}
    },
    {
      "cell_type": "markdown",
      "source": "$$\nY: Response \\ Variable\\\\\\\\\\\\\\\\\nX: Predictor \\ Variables\n$$\n",
      "metadata": {}
    },
    {
      "cell_type": "markdown",
      "source": "<b>Linear Function</b>\n$$\nYhat = a + b  X\n$$\n",
      "metadata": {}
    },
    {
      "cell_type": "markdown",
      "source": "<ul>\n    <li>a refers to the <b>intercept</b> of the regression line, in other words: the value of Y when X is 0</li>\n    <li>b refers to the <b>slope</b> of the regression line, in other words: the value with which Y changes when X increases by 1 unit</li>\n</ul>\n",
      "metadata": {}
    },
    {
      "cell_type": "markdown",
      "source": "<h4>Let's load the modules for linear regression:</h4>\n",
      "metadata": {}
    },
    {
      "cell_type": "code",
      "source": "from sklearn.linear_model import LinearRegression",
      "metadata": {
        "trusted": true
      },
      "execution_count": 7,
      "outputs": []
    },
    {
      "cell_type": "markdown",
      "source": "<h4>Create the linear regression object:</h4>\n",
      "metadata": {}
    },
    {
      "cell_type": "code",
      "source": "lm = LinearRegression()\nlm",
      "metadata": {
        "trusted": true
      },
      "execution_count": 8,
      "outputs": [
        {
          "execution_count": 8,
          "output_type": "execute_result",
          "data": {
            "text/plain": "LinearRegression()"
          },
          "metadata": {}
        }
      ]
    },
    {
      "cell_type": "markdown",
      "source": "<h4>How could \"highway-mpg\" help us predict car price?</h4>\n",
      "metadata": {}
    },
    {
      "cell_type": "markdown",
      "source": "For this example, we want to look at how highway-mpg can help us predict car price.\nUsing simple linear regression, we will create a linear function with \"highway-mpg\" as the predictor variable and the \"price\" as the response variable.\n",
      "metadata": {}
    },
    {
      "cell_type": "code",
      "source": "X = df[['highway-mpg']]\nY = df['price']",
      "metadata": {
        "trusted": true
      },
      "execution_count": 9,
      "outputs": []
    },
    {
      "cell_type": "markdown",
      "source": "Fit the linear model using highway-mpg:\n",
      "metadata": {}
    },
    {
      "cell_type": "code",
      "source": "lm.fit(X,Y)",
      "metadata": {
        "trusted": true
      },
      "execution_count": 10,
      "outputs": [
        {
          "execution_count": 10,
          "output_type": "execute_result",
          "data": {
            "text/plain": "LinearRegression()"
          },
          "metadata": {}
        }
      ]
    },
    {
      "cell_type": "markdown",
      "source": "We can output a prediction:\n",
      "metadata": {}
    },
    {
      "cell_type": "code",
      "source": "Yhat=lm.predict(X)\nYhat[0:5]   ",
      "metadata": {
        "trusted": true
      },
      "execution_count": 11,
      "outputs": [
        {
          "execution_count": 11,
          "output_type": "execute_result",
          "data": {
            "text/plain": "array([16236.50464347, 16236.50464347, 17058.23802179, 13771.3045085 ,\n       20345.17153508])"
          },
          "metadata": {}
        }
      ]
    },
    {
      "cell_type": "markdown",
      "source": "<h4>What is the value of the intercept (a)?</h4>\n",
      "metadata": {}
    },
    {
      "cell_type": "code",
      "source": "lm.intercept_",
      "metadata": {
        "trusted": true
      },
      "execution_count": 12,
      "outputs": [
        {
          "execution_count": 12,
          "output_type": "execute_result",
          "data": {
            "text/plain": "38423.30585815743"
          },
          "metadata": {}
        }
      ]
    },
    {
      "cell_type": "markdown",
      "source": "<h4>What is the value of the slope (b)?</h4>\n",
      "metadata": {}
    },
    {
      "cell_type": "code",
      "source": "lm.coef_",
      "metadata": {
        "scrolled": true,
        "trusted": true
      },
      "execution_count": 13,
      "outputs": [
        {
          "execution_count": 13,
          "output_type": "execute_result",
          "data": {
            "text/plain": "array([-821.73337832])"
          },
          "metadata": {}
        }
      ]
    },
    {
      "cell_type": "markdown",
      "source": "<h3>What is the final estimated linear model we get?</h3>\n",
      "metadata": {}
    },
    {
      "cell_type": "markdown",
      "source": "As we saw above, we should get a final linear model with the structure:\n",
      "metadata": {}
    },
    {
      "cell_type": "markdown",
      "source": "$$\nYhat = a + b  X\n$$\n",
      "metadata": {}
    },
    {
      "cell_type": "markdown",
      "source": "Plugging in the actual values we get:\n",
      "metadata": {}
    },
    {
      "cell_type": "markdown",
      "source": "<b>Price</b> = 38423.31 - 821.73 x <b>highway-mpg</b>\n",
      "metadata": {}
    },
    {
      "cell_type": "markdown",
      "source": "<div class=\"alert alert-danger alertdanger\" style=\"margin-top: 20px\">\n<h1>Question #1 a): </h1>\n\n<b>Create a linear regression object called \"lm1\".</b>\n\n</div>\n",
      "metadata": {}
    },
    {
      "cell_type": "code",
      "source": "# Write your code below and press Shift+Enter to execute \nlm1=LinearRegression()",
      "metadata": {
        "trusted": true
      },
      "execution_count": 14,
      "outputs": []
    },
    {
      "cell_type": "markdown",
      "source": "<details><summary>Click here for the solution</summary>\n\n```python\nlm1 = LinearRegression()\nlm1\n```\n\n</details>\n",
      "metadata": {}
    },
    {
      "cell_type": "markdown",
      "source": "<div class=\"alert alert-danger alertdanger\" style=\"margin-top: 20px\">\n<h1> Question #1 b): </h1>\n\n<b>Train the model using \"engine-size\" as the independent variable and \"price\" as the dependent variable?</b>\n\n</div>\n",
      "metadata": {}
    },
    {
      "cell_type": "code",
      "source": "# Write your code below and press Shift+Enter to execute \nX1=df[['engine-size']]\nY1=df[['price']]\nlm1.fit(X1,Y1)",
      "metadata": {
        "trusted": true
      },
      "execution_count": 15,
      "outputs": [
        {
          "execution_count": 15,
          "output_type": "execute_result",
          "data": {
            "text/plain": "LinearRegression()"
          },
          "metadata": {}
        }
      ]
    },
    {
      "cell_type": "markdown",
      "source": "<details><summary>Click here for the solution</summary>\n\n```python\nlm1.fit(df[['engine-size']], df[['price']])\nlm1\n```\n\n</details>\n",
      "metadata": {}
    },
    {
      "cell_type": "markdown",
      "source": "<div class=\"alert alert-danger alertdanger\" style=\"margin-top: 20px\">\n<h1>Question #1 c):</h1>\n\n<b>Find the slope and intercept of the model.</b>\n\n</div>\n",
      "metadata": {}
    },
    {
      "cell_type": "markdown",
      "source": "<h4>Slope</h4>\n",
      "metadata": {}
    },
    {
      "cell_type": "code",
      "source": "# Write your code below and press Shift+Enter to execute \nprint('slope:', lm1.coef_[0][0])",
      "metadata": {
        "trusted": true
      },
      "execution_count": 21,
      "outputs": [
        {
          "name": "stdout",
          "text": "slope: 166.860015691416\n",
          "output_type": "stream"
        }
      ]
    },
    {
      "cell_type": "markdown",
      "source": "<h4>Intercept</h4>\n",
      "metadata": {}
    },
    {
      "cell_type": "code",
      "source": "# Write your code below and press Shift+Enter to execute \nprint('intercept:', lm1.intercept_[0])",
      "metadata": {
        "trusted": true
      },
      "execution_count": 20,
      "outputs": [
        {
          "name": "stdout",
          "text": "intercept: -7963.338906281049\n",
          "output_type": "stream"
        }
      ]
    },
    {
      "cell_type": "markdown",
      "source": "# Slope\n\nlm1.coef\\_<details><summary>Click here for the solution</summary>\n\n```python\n# Slope \nlm1.coef_\n\n# Intercept\nlm1.intercept_\n```\n\n</details>\n",
      "metadata": {}
    },
    {
      "cell_type": "markdown",
      "source": "<div class=\"alert alert-danger alertdanger\" style=\"margin-top: 20px\">\n<h1>Question #1 d): </h1>\n\n<b>What is the equation of the predicted line? You can use x and yhat or \"engine-size\" or \"price\".</b>\n\n</div>\n",
      "metadata": {}
    },
    {
      "cell_type": "code",
      "source": "# Write your code below and press Shift+Enter to execute \n# using X and Y  \nYhat = 166.860015691416 * X - 7963.338906281049",
      "metadata": {
        "trusted": true
      },
      "execution_count": null,
      "outputs": []
    },
    {
      "cell_type": "markdown",
      "source": "<details><summary>Click here for the solution</summary>\n\n```python\n# using X and Y  \nYhat=-7963.34 + 166.86*X\n\nPrice=-7963.34 + 166.86*engine-size\n\n```\n\n</details>\n",
      "metadata": {}
    },
    {
      "cell_type": "markdown",
      "source": "<h4>Multiple Linear Regression</h4>\n",
      "metadata": {}
    },
    {
      "cell_type": "markdown",
      "source": "<p>What if we want to predict car price using more than one variable?</p>\n\n<p>If we want to use more variables in our model to predict car price, we can use <b>Multiple Linear Regression</b>.\nMultiple Linear Regression is very similar to Simple Linear Regression, but this method is used to explain the relationship between one continuous response (dependent) variable and <b>two or more</b> predictor (independent) variables.\nMost of the real-world regression models involve multiple predictors. We will illustrate the structure by using four predictor variables, but these results can generalize to any integer:</p>\n",
      "metadata": {}
    },
    {
      "cell_type": "markdown",
      "source": "$$\nY: Response \\ Variable\\\\\\\\\\\\\\\\\nX\\_1 :Predictor\\ Variable \\ 1\\\\\\\\\nX\\_2: Predictor\\ Variable \\ 2\\\\\\\\\nX\\_3: Predictor\\ Variable \\ 3\\\\\\\\\nX\\_4: Predictor\\ Variable \\ 4\\\\\\\\\n$$\n",
      "metadata": {}
    },
    {
      "cell_type": "markdown",
      "source": "$$\na: intercept\\\\\\\\\\\\\\\\\nb\\_1 :coefficients \\ of\\ Variable \\ 1\\\\\\\\\nb\\_2: coefficients \\ of\\ Variable \\ 2\\\\\\\\\nb\\_3: coefficients \\ of\\ Variable \\ 3\\\\\\\\\nb\\_4: coefficients \\ of\\ Variable \\ 4\\\\\\\\\n$$\n",
      "metadata": {}
    },
    {
      "cell_type": "markdown",
      "source": "The equation is given by:\n",
      "metadata": {}
    },
    {
      "cell_type": "markdown",
      "source": "$$\nYhat = a + b\\_1 X\\_1 + b\\_2 X\\_2 + b\\_3 X\\_3 + b\\_4 X\\_4\n$$\n",
      "metadata": {}
    },
    {
      "cell_type": "markdown",
      "source": "<p>From the previous section  we know that other good predictors of price could be:</p>\n<ul>\n    <li>Horsepower</li>\n    <li>Curb-weight</li>\n    <li>Engine-size</li>\n    <li>Highway-mpg</li>\n</ul>\nLet's develop a model using these variables as the predictor variables.\n",
      "metadata": {}
    },
    {
      "cell_type": "code",
      "source": "Z = df[['horsepower', 'curb-weight', 'engine-size', 'highway-mpg']]",
      "metadata": {
        "trusted": true
      },
      "execution_count": 22,
      "outputs": []
    },
    {
      "cell_type": "markdown",
      "source": "Fit the linear model using the four above-mentioned variables.\n",
      "metadata": {}
    },
    {
      "cell_type": "code",
      "source": "lm.fit(Z, df['price'])",
      "metadata": {
        "trusted": true
      },
      "execution_count": 23,
      "outputs": [
        {
          "execution_count": 23,
          "output_type": "execute_result",
          "data": {
            "text/plain": "LinearRegression()"
          },
          "metadata": {}
        }
      ]
    },
    {
      "cell_type": "markdown",
      "source": "What is the value of the intercept(a)?\n",
      "metadata": {}
    },
    {
      "cell_type": "code",
      "source": "lm.intercept_",
      "metadata": {
        "trusted": true
      },
      "execution_count": 24,
      "outputs": [
        {
          "execution_count": 24,
          "output_type": "execute_result",
          "data": {
            "text/plain": "-15806.62462632922"
          },
          "metadata": {}
        }
      ]
    },
    {
      "cell_type": "markdown",
      "source": "What are the values of the coefficients (b1, b2, b3, b4)?\n",
      "metadata": {}
    },
    {
      "cell_type": "code",
      "source": "lm.coef_",
      "metadata": {
        "trusted": true
      },
      "execution_count": 25,
      "outputs": [
        {
          "execution_count": 25,
          "output_type": "execute_result",
          "data": {
            "text/plain": "array([53.49574423,  4.70770099, 81.53026382, 36.05748882])"
          },
          "metadata": {}
        }
      ]
    },
    {
      "cell_type": "markdown",
      "source": "What is the final estimated linear model that we get?\n",
      "metadata": {}
    },
    {
      "cell_type": "markdown",
      "source": "As we saw above, we should get a final linear function with the structure:\n\n$$\nYhat = a + b\\_1 X\\_1 + b\\_2 X\\_2 + b\\_3 X\\_3 + b\\_4 X\\_4\n$$\n\nWhat is the linear function we get in this example?\n",
      "metadata": {}
    },
    {
      "cell_type": "markdown",
      "source": "<b>Price</b> = -15678.742628061467 + 52.65851272 x <b>horsepower</b> + 4.69878948 x <b>curb-weight</b> + 81.95906216 x <b>engine-size</b> + 33.58258185 x <b>highway-mpg</b>\n",
      "metadata": {}
    },
    {
      "cell_type": "markdown",
      "source": "<div class=\"alert alert-danger alertdanger\" style=\"margin-top: 20px\">\n<h1> Question  #2 a): </h1>\nCreate and train a Multiple Linear Regression model \"lm2\" where the response variable is \"price\", and the predictor variable is \"normalized-losses\" and  \"highway-mpg\".\n</div>\n",
      "metadata": {}
    },
    {
      "cell_type": "code",
      "source": "# Write your code below and press Shift+Enter to execute \nlm2=LinearRegression()\nlm2.fit(df[[\"normalized-losses\",\"highway-mpg\"]],df['price'])",
      "metadata": {
        "trusted": true
      },
      "execution_count": 26,
      "outputs": [
        {
          "execution_count": 26,
          "output_type": "execute_result",
          "data": {
            "text/plain": "LinearRegression()"
          },
          "metadata": {}
        }
      ]
    },
    {
      "cell_type": "markdown",
      "source": "<details><summary>Click here for the solution</summary>\n\n```python\nlm2 = LinearRegression()\nlm2.fit(df[['normalized-losses' , 'highway-mpg']],df['price'])\n\n\n```\n\n</details>\n",
      "metadata": {}
    },
    {
      "cell_type": "markdown",
      "source": "<div class=\"alert alert-danger alertdanger\" style=\"margin-top: 20px\">\n<h1>Question  #2 b): </h1>\n<b>Find the coefficient of the model.</b>\n</div>\n",
      "metadata": {}
    },
    {
      "cell_type": "code",
      "source": "# Write your code below and press Shift+Enter to execute \nlm2.coef_",
      "metadata": {
        "trusted": true
      },
      "execution_count": 27,
      "outputs": [
        {
          "execution_count": 27,
          "output_type": "execute_result",
          "data": {
            "text/plain": "array([   1.49789586, -820.45434016])"
          },
          "metadata": {}
        }
      ]
    },
    {
      "cell_type": "markdown",
      "source": "<details><summary>Click here for the solution</summary>\n\n```python\nlm2.coef_\n\n```\n\n</details>\n",
      "metadata": {}
    },
    {
      "cell_type": "markdown",
      "source": "<h2>2. Model Evaluation Using Visualization</h2>\n",
      "metadata": {}
    },
    {
      "cell_type": "markdown",
      "source": "Now that we've developed some models, how do we evaluate our models and choose the best one? One way to do this is by using a visualization.\n",
      "metadata": {}
    },
    {
      "cell_type": "markdown",
      "source": "Import the visualization package, seaborn:\n",
      "metadata": {}
    },
    {
      "cell_type": "code",
      "source": "# import the visualization package: seaborn\nimport seaborn as sns\n%matplotlib inline ",
      "metadata": {
        "trusted": true
      },
      "execution_count": 28,
      "outputs": []
    },
    {
      "cell_type": "markdown",
      "source": "<h3>Regression Plot</h3>\n",
      "metadata": {}
    },
    {
      "cell_type": "markdown",
      "source": "<p>When it comes to simple linear regression, an excellent way to visualize the fit of our model is by using <b>regression plots</b>.</p>\n\n<p>This plot will show a combination of a scattered data points (a <b>scatterplot</b>), as well as the fitted <b>linear regression</b> line going through the data. This will give us a reasonable estimate of the relationship between the two variables, the strength of the correlation, as well as the direction (positive or negative correlation).</p>\n",
      "metadata": {}
    },
    {
      "cell_type": "markdown",
      "source": "Let's visualize **highway-mpg** as potential predictor variable of price:\n",
      "metadata": {}
    },
    {
      "cell_type": "code",
      "source": "width = 12\nheight = 10\nplt.figure(figsize=(width, height))\nsns.regplot(x=\"highway-mpg\", y=\"price\", data=df)\nplt.ylim(0,)",
      "metadata": {
        "trusted": true
      },
      "execution_count": 29,
      "outputs": [
        {
          "execution_count": 29,
          "output_type": "execute_result",
          "data": {
            "text/plain": "(0.0, 48172.88405413397)"
          },
          "metadata": {}
        },
        {
          "output_type": "display_data",
          "data": {
            "text/plain": "<Figure size 864x720 with 1 Axes>",
            "image/png": "[encoded data removed]"
          },
          "metadata": {
            "needs_background": "light"
          }
        }
      ]
    },
    {
      "cell_type": "markdown",
      "source": "<p>We can see from this plot that price is negatively correlated to highway-mpg since the regression slope is negative.\n\nOne thing to keep in mind when looking at a regression plot is to pay attention to how scattered the data points are around the regression line. This will give you a good indication of the variance of the data and whether a linear model would be the best fit or not. If the data is too far off from the line, this linear model might not be the best model for this data.\n\nLet's compare this plot to the regression plot of \"peak-rpm\".</p>\n",
      "metadata": {}
    },
    {
      "cell_type": "code",
      "source": "plt.figure(figsize=(width, height))\nsns.regplot(x=\"peak-rpm\", y=\"price\", data=df)\nplt.ylim(0,)",
      "metadata": {
        "trusted": true
      },
      "execution_count": 30,
      "outputs": [
        {
          "execution_count": 30,
          "output_type": "execute_result",
          "data": {
            "text/plain": "(0.0, 47414.1)"
          },
          "metadata": {}
        },
        {
          "output_type": "display_data",
          "data": {
            "text/plain": "<Figure size 864x720 with 1 Axes>",
            "image/png": "[encoded data removed]"
          },
          "metadata": {
            "needs_background": "light"
          }
        }
      ]
    },
    {
      "cell_type": "markdown",
      "source": "<p>Comparing the regression plot of \"peak-rpm\" and \"highway-mpg\", we see that the points for \"highway-mpg\" are much closer to the generated line and, on average, decrease. The points for \"peak-rpm\" have more spread around the predicted line and it is much harder to determine if the points are decreasing or increasing as the \"peak-rpm\" increases.</p>\n",
      "metadata": {}
    },
    {
      "cell_type": "markdown",
      "source": "<div class=\"alert alert-danger alertdanger\" style=\"margin-top: 20px\">\n<h1>Question #3:</h1>\n<b>Given the regression plots above, is \"peak-rpm\" or \"highway-mpg\" more strongly correlated with \"price\"? Use the method  \".corr()\" to verify your answer.</b>\n</div>\n",
      "metadata": {}
    },
    {
      "cell_type": "code",
      "source": "# Write your code below and press Shift+Enter to execute \ndf[['peak-rpm','highway-mpg','price']].corr()",
      "metadata": {
        "trusted": true
      },
      "execution_count": 32,
      "outputs": [
        {
          "execution_count": 32,
          "output_type": "execute_result",
          "data": {
            "text/plain": "             peak-rpm  highway-mpg     price\npeak-rpm     1.000000    -0.058598 -0.101616\nhighway-mpg -0.058598     1.000000 -0.704692\nprice       -0.101616    -0.704692  1.000000",
            "text/html": "<div>\n<style scoped>\n    .dataframe tbody tr th:only-of-type {\n        vertical-align: middle;\n    }\n\n    .dataframe tbody tr th {\n        vertical-align: top;\n    }\n\n    .dataframe thead th {\n        text-align: right;\n    }\n</style>\n<table border=\"1\" class=\"dataframe\">\n  <thead>\n    <tr style=\"text-align: right;\">\n      <th></th>\n      <th>peak-rpm</th>\n      <th>highway-mpg</th>\n      <th>price</th>\n    </tr>\n  </thead>\n  <tbody>\n    <tr>\n      <th>peak-rpm</th>\n      <td>1.000000</td>\n      <td>-0.058598</td>\n      <td>-0.101616</td>\n    </tr>\n    <tr>\n      <th>highway-mpg</th>\n      <td>-0.058598</td>\n      <td>1.000000</td>\n      <td>-0.704692</td>\n    </tr>\n    <tr>\n      <th>price</th>\n      <td>-0.101616</td>\n      <td>-0.704692</td>\n      <td>1.000000</td>\n    </tr>\n  </tbody>\n</table>\n</div>"
          },
          "metadata": {}
        }
      ]
    },
    {
      "cell_type": "markdown",
      "source": "<details><summary>Click here for the solution</summary>\n\n```python\n# The variable \"highway-mpg\" has a stronger correlation with \"price\", it is approximate -0.704692  compared to \"peak-rpm\" which is approximate -0.101616. You can verify it using the following command:\n\ndf[[\"peak-rpm\",\"highway-mpg\",\"price\"]].corr()\n\n```\n\n</details>\n",
      "metadata": {}
    },
    {
      "cell_type": "markdown",
      "source": "<h3>Residual Plot</h3>\n\n<p>A good way to visualize the variance of the data is to use a residual plot.</p>\n\n<p>What is a <b>residual</b>?</p>\n\n<p>The difference between the observed value (y) and the predicted value (Yhat) is called the residual (e). When we look at a regression plot, the residual is the distance from the data point to the fitted regression line.</p>\n\n<p>So what is a <b>residual plot</b>?</p>\n\n<p>A residual plot is a graph that shows the residuals on the vertical y-axis and the independent variable on the horizontal x-axis.</p>\n\n<p>What do we pay attention to when looking at a residual plot?</p>\n\n<p>We look at the spread of the residuals:</p>\n\n<p>- If the points in a residual plot are <b>randomly spread out around the x-axis</b>, then a <b>linear model is appropriate</b> for the data.\n\nWhy is that? Randomly spread out residuals means that the variance is constant, and thus the linear model is a good fit for this data.</p>\n",
      "metadata": {}
    },
    {
      "cell_type": "code",
      "source": "width = 12\nheight = 10\nplt.figure(figsize=(width, height))\nsns.residplot(df['highway-mpg'], df['price'])\nplt.show()",
      "metadata": {
        "trusted": true
      },
      "execution_count": 33,
      "outputs": [
        {
          "name": "stderr",
          "text": "/lib/python3.9/site-packages/seaborn/_decorators.py:36: FutureWarning: Pass the following variables as keyword args: x, y. From version 0.12, the only valid positional argument will be `data`, and passing other arguments without an explicit keyword will result in an error or misinterpretation.\n  warnings.warn(\n",
          "output_type": "stream"
        },
        {
          "output_type": "display_data",
          "data": {
            "text/plain": "<pyolite.display.Image at 0x5ffc760>",
            "image/png": "[encoded data removed]"
          },
          "metadata": {}
        },
        {
          "output_type": "display_data",
          "data": {
            "text/plain": "<Figure size 864x720 with 0 Axes>"
          },
          "metadata": {}
        }
      ]
    },
    {
      "cell_type": "markdown",
      "source": "<i>What is this plot telling us?</i>\n\n<p>We can see from this residual plot that the residuals are not randomly spread around the x-axis, leading us to believe that maybe a non-linear model is more appropriate for this data.</p>\n",
      "metadata": {}
    },
    {
      "cell_type": "markdown",
      "source": "<h3>Multiple Linear Regression</h3>\n",
      "metadata": {}
    },
    {
      "cell_type": "markdown",
      "source": "<p>How do we visualize a model for Multiple Linear Regression? This gets a bit more complicated because you can't visualize it with regression or residual plot.</p>\n\n<p>One way to look at the fit of the model is by looking at the <b>distribution plot</b>. We can look at the distribution of the fitted values that result from the model and compare it to the distribution of the actual values.</p>\n",
      "metadata": {}
    },
    {
      "cell_type": "markdown",
      "source": "First, let's make a prediction:\n",
      "metadata": {}
    },
    {
      "cell_type": "code",
      "source": "Y_hat = lm.predict(Z)",
      "metadata": {
        "trusted": true
      },
      "execution_count": 34,
      "outputs": []
    },
    {
      "cell_type": "code",
      "source": "plt.figure(figsize=(width, height))\n\n\nax1 = sns.distplot(df['price'], hist=False, color=\"r\", label=\"Actual Value\")\nsns.distplot(Y_hat, hist=False, color=\"b\", label=\"Fitted Values\" , ax=ax1)\n\n\nplt.title('Actual vs Fitted Values for Price')\nplt.xlabel('Price (in dollars)')\nplt.ylabel('Proportion of Cars')\n\nplt.show()\nplt.close()",
      "metadata": {
        "trusted": true
      },
      "execution_count": 37,
      "outputs": [
        {
          "name": "stderr",
          "text": "/lib/python3.9/site-packages/seaborn/distributions.py:2619: FutureWarning: `distplot` is a deprecated function and will be removed in a future version. Please adapt your code to use either `displot` (a figure-level function with similar flexibility) or `kdeplot` (an axes-level function for kernel density plots).\n  warnings.warn(msg, FutureWarning)\n/lib/python3.9/site-packages/seaborn/distributions.py:2619: FutureWarning: `distplot` is a deprecated function and will be removed in a future version. Please adapt your code to use either `displot` (a figure-level function with similar flexibility) or `kdeplot` (an axes-level function for kernel density plots).\n  warnings.warn(msg, FutureWarning)\n",
          "output_type": "stream"
        },
        {
          "output_type": "display_data",
          "data": {
            "text/plain": "<pyolite.display.Image at 0x5fc35d0>",
            "image/png": "[encoded data removed]"
          },
          "metadata": {}
        }
      ]
    },
    {
      "cell_type": "markdown",
      "source": "<p>We can see that the fitted values are reasonably close to the actual values since the two distributions overlap a bit. However, there is definitely some room for improvement.</p>\n",
      "metadata": {}
    },
    {
      "cell_type": "markdown",
      "source": "<h2>3. Polynomial Regression and Pipelines</h2>\n",
      "metadata": {}
    },
    {
      "cell_type": "markdown",
      "source": "<p><b>Polynomial regression</b> is a particular case of the general linear regression model or multiple linear regression models.</p> \n<p>We get non-linear relationships by squaring or setting higher-order terms of the predictor variables.</p>\n\n<p>There are different orders of polynomial regression:</p>\n",
      "metadata": {}
    },
    {
      "cell_type": "markdown",
      "source": "<center><b>Quadratic - 2nd Order</b></center>\n$$\nYhat = a + b_1 X +b_2 X^2 \n$$\n\n<center><b>Cubic - 3rd Order</b></center>\n$$\nYhat = a + b_1 X +b_2 X^2 +b_3 X^3\\\\\\\\\\\\\\\\\n$$\n\n<center><b>Higher-Order</b>:</center>\n$$\nY = a + b_1 X +b_2 X^2 +b_3 X^3 ....\\\\\\\\\n$$\n",
      "metadata": {}
    },
    {
      "cell_type": "markdown",
      "source": "<p>We saw earlier that a linear model did not provide the best fit while using \"highway-mpg\" as the predictor variable. Let's see if we can try fitting a polynomial model to the data instead.</p>\n",
      "metadata": {}
    },
    {
      "cell_type": "markdown",
      "source": "<p>We will use the following function to plot the data:</p>\n",
      "metadata": {}
    },
    {
      "cell_type": "code",
      "source": "def PlotPolly(model, independent_variable, dependent_variabble, Name):\n    x_new = np.linspace(15, 55, 100)\n    y_new = model(x_new)\n\n    plt.plot(independent_variable, dependent_variabble, '.', x_new, y_new, '-')\n    plt.title('Polynomial Fit with Matplotlib for Price ~ Length')\n    ax = plt.gca()\n    ax.set_facecolor((0.898, 0.898, 0.898))\n    fig = plt.gcf()\n    plt.xlabel(Name)\n    plt.ylabel('Price of Cars')\n\n    plt.show()\n    plt.close()",
      "metadata": {
        "trusted": true
      },
      "execution_count": 38,
      "outputs": []
    },
    {
      "cell_type": "markdown",
      "source": "Let's get the variables:\n",
      "metadata": {}
    },
    {
      "cell_type": "code",
      "source": "x = df['highway-mpg']\ny = df['price']",
      "metadata": {
        "trusted": true
      },
      "execution_count": 39,
      "outputs": []
    },
    {
      "cell_type": "markdown",
      "source": "Let's fit the polynomial using the function <b>polyfit</b>, then use the function <b>poly1d</b> to display the polynomial function.\n",
      "metadata": {}
    },
    {
      "cell_type": "code",
      "source": "# Here we use a polynomial of the 3rd order (cubic) \nf = np.polyfit(x, y, 3)\np = np.poly1d(f)\nprint(p)",
      "metadata": {
        "trusted": true
      },
      "execution_count": 40,
      "outputs": [
        {
          "name": "stdout",
          "text": "        3         2\n-1.557 x + 204.8 x - 8965 x + 1.379e+05\n",
          "output_type": "stream"
        }
      ]
    },
    {
      "cell_type": "markdown",
      "source": "Let's plot the function:\n",
      "metadata": {}
    },
    {
      "cell_type": "code",
      "source": "PlotPolly(p, x, y, 'highway-mpg')",
      "metadata": {
        "trusted": true
      },
      "execution_count": 42,
      "outputs": [
        {
          "output_type": "display_data",
          "data": {
            "text/plain": "<pyolite.display.Image at 0x5fe7558>",
            "image/png": "[encoded data removed]"
          },
          "metadata": {}
        }
      ]
    },
    {
      "cell_type": "code",
      "source": "np.polyfit(x, y, 3)",
      "metadata": {
        "trusted": true
      },
      "execution_count": 43,
      "outputs": [
        {
          "execution_count": 43,
          "output_type": "execute_result",
          "data": {
            "text/plain": "array([-1.55663829e+00,  2.04754306e+02, -8.96543312e+03,  1.37923594e+05])"
          },
          "metadata": {}
        }
      ]
    },
    {
      "cell_type": "markdown",
      "source": "<p>We can already see from plotting that this polynomial model performs better than the linear model. This is because the generated polynomial function  \"hits\" more of the data points.</p>\n",
      "metadata": {}
    },
    {
      "cell_type": "markdown",
      "source": "<div class=\"alert alert-danger alertdanger\" style=\"margin-top: 20px\">\n<h1>Question  #4:</h1>\n<b>Create 11 order polynomial model with the variables x and y from above.</b>\n</div>\n",
      "metadata": {}
    },
    {
      "cell_type": "code",
      "source": "# Write your code below and press Shift+Enter to execute \nf1=np.polyfit(x,y,11)\np1=np.poly1d(f1)\np1\nPlotPolly(p1,x,y,'highway-mgp')",
      "metadata": {
        "trusted": true
      },
      "execution_count": 46,
      "outputs": [
        {
          "output_type": "display_data",
          "data": {
            "text/plain": "<pyolite.display.Image at 0x6684c48>",
            "image/png": "[encoded data removed]"
          },
          "metadata": {}
        }
      ]
    },
    {
      "cell_type": "markdown",
      "source": "<details><summary>Click here for the solution</summary>\n\n```python\n# Here we use a polynomial of the 11rd order (cubic) \nf1 = np.polyfit(x, y, 11)\np1 = np.poly1d(f1)\nprint(p1)\nPlotPolly(p1,x,y, 'Highway MPG')\n\n```\n\n</details>\n",
      "metadata": {}
    },
    {
      "cell_type": "markdown",
      "source": "<p>The analytical expression for Multivariate Polynomial function gets complicated. For example, the expression for a second-order (degree=2) polynomial with two variables is given by:</p>\n",
      "metadata": {}
    },
    {
      "cell_type": "markdown",
      "source": "$$\nYhat = a + b\\_1 X\\_1 +b\\_2 X\\_2 +b\\_3 X\\_1 X\\_2+b\\_4 X\\_1^2+b\\_5 X\\_2^2\n$$\n",
      "metadata": {}
    },
    {
      "cell_type": "markdown",
      "source": "We can perform a polynomial transform on multiple features. First, we import the module:\n",
      "metadata": {}
    },
    {
      "cell_type": "code",
      "source": "from sklearn.preprocessing import PolynomialFeatures",
      "metadata": {
        "trusted": true
      },
      "execution_count": 47,
      "outputs": []
    },
    {
      "cell_type": "markdown",
      "source": "We create a <b>PolynomialFeatures</b> object of degree 2:\n",
      "metadata": {}
    },
    {
      "cell_type": "code",
      "source": "pr=PolynomialFeatures(degree=2)\npr",
      "metadata": {
        "trusted": true
      },
      "execution_count": 48,
      "outputs": [
        {
          "execution_count": 48,
          "output_type": "execute_result",
          "data": {
            "text/plain": "PolynomialFeatures()"
          },
          "metadata": {}
        }
      ]
    },
    {
      "cell_type": "code",
      "source": "Z_pr=pr.fit_transform(Z)",
      "metadata": {
        "trusted": true
      },
      "execution_count": 49,
      "outputs": []
    },
    {
      "cell_type": "markdown",
      "source": "In the original data, there are 201 samples and 4 features.\n",
      "metadata": {}
    },
    {
      "cell_type": "code",
      "source": "Z.shape",
      "metadata": {
        "trusted": true
      },
      "execution_count": 50,
      "outputs": [
        {
          "execution_count": 50,
          "output_type": "execute_result",
          "data": {
            "text/plain": "(201, 4)"
          },
          "metadata": {}
        }
      ]
    },
    {
      "cell_type": "markdown",
      "source": "After the transformation, there are 201 samples and 15 features.\n",
      "metadata": {}
    },
    {
      "cell_type": "code",
      "source": "Z_pr.shape",
      "metadata": {
        "trusted": true
      },
      "execution_count": 51,
      "outputs": [
        {
          "execution_count": 51,
          "output_type": "execute_result",
          "data": {
            "text/plain": "(201, 15)"
          },
          "metadata": {}
        }
      ]
    },
    {
      "cell_type": "markdown",
      "source": "<h2>Pipeline</h2>\n",
      "metadata": {}
    },
    {
      "cell_type": "markdown",
      "source": "<p>Data Pipelines simplify the steps of processing the data. We use the module <b>Pipeline</b> to create a pipeline. We also use <b>StandardScaler</b> as a step in our pipeline.</p>\n",
      "metadata": {}
    },
    {
      "cell_type": "code",
      "source": "from sklearn.pipeline import Pipeline\nfrom sklearn.preprocessing import StandardScaler",
      "metadata": {
        "trusted": true
      },
      "execution_count": 53,
      "outputs": []
    },
    {
      "cell_type": "markdown",
      "source": "We create the pipeline by creating a list of tuples including the name of the model or estimator and its corresponding constructor.\n",
      "metadata": {}
    },
    {
      "cell_type": "code",
      "source": "Input=[('scale',StandardScaler()), ('polynomial', PolynomialFeatures(include_bias=False)), ('model',LinearRegression())]",
      "metadata": {
        "trusted": true
      },
      "execution_count": 55,
      "outputs": []
    },
    {
      "cell_type": "markdown",
      "source": "We input the list as an argument to the pipeline constructor:\n",
      "metadata": {}
    },
    {
      "cell_type": "code",
      "source": "pipe=Pipeline(Input)\npipe",
      "metadata": {
        "trusted": true
      },
      "execution_count": 56,
      "outputs": [
        {
          "execution_count": 56,
          "output_type": "execute_result",
          "data": {
            "text/plain": "Pipeline(steps=[('scale', StandardScaler()),\n                ('polynomial', PolynomialFeatures(include_bias=False)),\n                ('model', LinearRegression())])"
          },
          "metadata": {}
        }
      ]
    },
    {
      "cell_type": "markdown",
      "source": "First, we convert the data type Z to type float to avoid conversion warnings that may appear as a result of StandardScaler taking float inputs.\n\nThen, we can normalize the data,  perform a transform and fit the model simultaneously.\n",
      "metadata": {}
    },
    {
      "cell_type": "code",
      "source": "Z = Z.astype(float)\npipe.fit(Z,y)",
      "metadata": {
        "trusted": true
      },
      "execution_count": 57,
      "outputs": [
        {
          "execution_count": 57,
          "output_type": "execute_result",
          "data": {
            "text/plain": "Pipeline(steps=[('scale', StandardScaler()),\n                ('polynomial', PolynomialFeatures(include_bias=False)),\n                ('model', LinearRegression())])"
          },
          "metadata": {}
        }
      ]
    },
    {
      "cell_type": "markdown",
      "source": "Similarly,  we can normalize the data, perform a transform and produce a prediction  simultaneously.\n",
      "metadata": {}
    },
    {
      "cell_type": "code",
      "source": "ypipe=pipe.predict(Z)\nypipe[0:4]",
      "metadata": {
        "trusted": true
      },
      "execution_count": 58,
      "outputs": [
        {
          "execution_count": 58,
          "output_type": "execute_result",
          "data": {
            "text/plain": "array([13102.74784201, 13102.74784201, 18225.54572197, 10390.29636555])"
          },
          "metadata": {}
        }
      ]
    },
    {
      "cell_type": "markdown",
      "source": "<div class=\"alert alert-danger alertdanger\" style=\"margin-top: 20px\">\n<h1>Question #5:</h1>\n<b>Create a pipeline that standardizes the data, then produce a prediction using a linear regression model using the features Z and target y.</b>\n</div>\n",
      "metadata": {}
    },
    {
      "cell_type": "code",
      "source": "# Write your code below and press Shift+Enter to execute \ninput1=[('scaler',StandardScaler()),('linear',LinearRegression())]\npipe=Pipeline(input1)\npipe.fit(Z,y)\nzhat=pipe.predict(Z)\nzhat[0:10]",
      "metadata": {
        "trusted": true
      },
      "execution_count": 61,
      "outputs": [
        {
          "execution_count": 61,
          "output_type": "execute_result",
          "data": {
            "text/plain": "array([13699.11161184, 13699.11161184, 19051.65470233, 10620.36193015,\n       15521.31420211, 13869.66673213, 15456.16196732, 15974.00907672,\n       17612.35917161, 10722.32509097])"
          },
          "metadata": {}
        }
      ]
    },
    {
      "cell_type": "markdown",
      "source": "<details><summary>Click here for the solution</summary>\n\n```python\nInput=[('scale',StandardScaler()),('model',LinearRegression())]\n\npipe=Pipeline(Input)\n\npipe.fit(Z,y)\n\nypipe=pipe.predict(Z)\nypipe[0:10]\n\n```\n\n</details>\n",
      "metadata": {}
    },
    {
      "cell_type": "markdown",
      "source": "<h2>4. Measures for In-Sample Evaluation</h2>\n",
      "metadata": {}
    },
    {
      "cell_type": "markdown",
      "source": "<p>When evaluating our models, not only do we want to visualize the results, but we also want a quantitative measure to determine how accurate the model is.</p>\n\n<p>Two very important measures that are often used in Statistics to determine the accuracy of a model are:</p>\n<ul>\n    <li><b>R^2 / R-squared</b></li>\n    <li><b>Mean Squared Error (MSE)</b></li>\n</ul>\n\n<b>R-squared</b>\n\n<p>R squared, also known as the coefficient of determination, is a measure to indicate how close the data is to the fitted regression line.</p>\n\n<p>The value of the R-squared is the percentage of variation of the response variable (y) that is explained by a linear model.</p>\n\n<b>Mean Squared Error (MSE)</b>\n\n<p>The Mean Squared Error measures the average of the squares of errors. That is, the difference between actual value (y) and the estimated value (ŷ).</p>\n",
      "metadata": {}
    },
    {
      "cell_type": "markdown",
      "source": "<h3>Model 1: Simple Linear Regression</h3>\n",
      "metadata": {}
    },
    {
      "cell_type": "markdown",
      "source": "Let's calculate the R^2:\n",
      "metadata": {}
    },
    {
      "cell_type": "code",
      "source": "#highway_mpg_fit\nlm.fit(X, Y)\n# Find the R^2\nprint('The R-square is: ', lm.score(X, Y))",
      "metadata": {
        "scrolled": true,
        "trusted": true
      },
      "execution_count": 62,
      "outputs": [
        {
          "name": "stdout",
          "text": "The R-square is:  0.4965911884339176\n",
          "output_type": "stream"
        }
      ]
    },
    {
      "cell_type": "markdown",
      "source": "We can say that \\~49.659% of the variation of the price is explained by this simple linear model \"horsepower_fit\".\n",
      "metadata": {}
    },
    {
      "cell_type": "markdown",
      "source": "Let's calculate the MSE:\n",
      "metadata": {}
    },
    {
      "cell_type": "markdown",
      "source": "We can predict the output i.e., \"yhat\" using the predict method, where X is the input variable:\n",
      "metadata": {}
    },
    {
      "cell_type": "code",
      "source": "Yhat=lm.predict(X)\nprint('The output of the first four predicted value is: ', Yhat[0:4])",
      "metadata": {
        "trusted": true
      },
      "execution_count": 63,
      "outputs": [
        {
          "name": "stdout",
          "text": "The output of the first four predicted value is:  [16236.50464347 16236.50464347 17058.23802179 13771.3045085 ]\n",
          "output_type": "stream"
        }
      ]
    },
    {
      "cell_type": "markdown",
      "source": "Let's import the function <b>mean_squared_error</b> from the module <b>metrics</b>:\n",
      "metadata": {}
    },
    {
      "cell_type": "code",
      "source": "from sklearn.metrics import mean_squared_error",
      "metadata": {
        "trusted": true
      },
      "execution_count": 64,
      "outputs": []
    },
    {
      "cell_type": "markdown",
      "source": "We can compare the predicted results with the actual results:\n",
      "metadata": {}
    },
    {
      "cell_type": "code",
      "source": "mse = mean_squared_error(df['price'], Yhat)\nprint('The mean square error of price and predicted value is: ', mse)",
      "metadata": {
        "trusted": true
      },
      "execution_count": 65,
      "outputs": [
        {
          "name": "stdout",
          "text": "The mean square error of price and predicted value is:  31635042.944639888\n",
          "output_type": "stream"
        }
      ]
    },
    {
      "cell_type": "markdown",
      "source": "<h3>Model 2: Multiple Linear Regression</h3>\n",
      "metadata": {}
    },
    {
      "cell_type": "markdown",
      "source": "Let's calculate the R^2:\n",
      "metadata": {}
    },
    {
      "cell_type": "code",
      "source": "# fit the model \nlm.fit(Z, df['price'])\n# Find the R^2\nprint('The R-square is: ', lm.score(Z, df['price']))",
      "metadata": {
        "trusted": true
      },
      "execution_count": 67,
      "outputs": [
        {
          "name": "stdout",
          "text": "The R-square is:  0.8093562806577457\n",
          "output_type": "stream"
        }
      ]
    },
    {
      "cell_type": "markdown",
      "source": "We can say that \\~80.896 % of the variation of price is explained by this multiple linear regression \"multi_fit\".\n",
      "metadata": {}
    },
    {
      "cell_type": "markdown",
      "source": "Let's calculate the MSE.\n",
      "metadata": {}
    },
    {
      "cell_type": "markdown",
      "source": "We produce a prediction:\n",
      "metadata": {}
    },
    {
      "cell_type": "code",
      "source": "Y_predict_multifit = lm.predict(Z)",
      "metadata": {
        "trusted": true
      },
      "execution_count": 68,
      "outputs": []
    },
    {
      "cell_type": "markdown",
      "source": "We compare the predicted results with the actual results:\n",
      "metadata": {}
    },
    {
      "cell_type": "code",
      "source": "print('The mean square error of price and predicted value using multifit is: ', \\\n      mean_squared_error(df['price'], Y_predict_multifit))",
      "metadata": {
        "trusted": true
      },
      "execution_count": 69,
      "outputs": [
        {
          "name": "stdout",
          "text": "The mean square error of price and predicted value using multifit is:  11980366.87072649\n",
          "output_type": "stream"
        }
      ]
    },
    {
      "cell_type": "markdown",
      "source": "<h3>Model 3: Polynomial Fit</h3>\n",
      "metadata": {}
    },
    {
      "cell_type": "markdown",
      "source": "Let's calculate the R^2.\n",
      "metadata": {}
    },
    {
      "cell_type": "markdown",
      "source": "Let’s import the function <b>r2\\_score</b> from the module <b>metrics</b> as we are using a different function.\n",
      "metadata": {}
    },
    {
      "cell_type": "code",
      "source": "from sklearn.metrics import r2_score",
      "metadata": {
        "trusted": true
      },
      "execution_count": 70,
      "outputs": []
    },
    {
      "cell_type": "markdown",
      "source": "We apply the function to get the value of R^2:\n",
      "metadata": {}
    },
    {
      "cell_type": "code",
      "source": "r_squared = r2_score(y, p(x))\nprint('The R-square value is: ', r_squared)",
      "metadata": {
        "trusted": true
      },
      "execution_count": 71,
      "outputs": [
        {
          "name": "stdout",
          "text": "The R-square value is:  0.674194666390652\n",
          "output_type": "stream"
        }
      ]
    },
    {
      "cell_type": "markdown",
      "source": "We can say that \\~67.419 % of the variation of price is explained by this polynomial fit.\n",
      "metadata": {}
    },
    {
      "cell_type": "markdown",
      "source": "<h3>MSE</h3>\n",
      "metadata": {}
    },
    {
      "cell_type": "markdown",
      "source": "We can also calculate the MSE:\n",
      "metadata": {}
    },
    {
      "cell_type": "code",
      "source": "mean_squared_error(df['price'], p(x))",
      "metadata": {
        "trusted": true
      },
      "execution_count": 72,
      "outputs": [
        {
          "execution_count": 72,
          "output_type": "execute_result",
          "data": {
            "text/plain": "20474146.426361218"
          },
          "metadata": {}
        }
      ]
    },
    {
      "cell_type": "markdown",
      "source": "<h2>5. Prediction and Decision Making</h2>\n<h3>Prediction</h3>\n\n<p>In the previous section, we trained the model using the method <b>fit</b>. Now we will use the method <b>predict</b> to produce a prediction. Lets import <b>pyplot</b> for plotting; we will also be using some functions from numpy.</p>\n",
      "metadata": {}
    },
    {
      "cell_type": "code",
      "source": "import matplotlib.pyplot as plt\nimport numpy as np\n\n%matplotlib inline ",
      "metadata": {
        "trusted": true
      },
      "execution_count": 73,
      "outputs": []
    },
    {
      "cell_type": "markdown",
      "source": "Create a new input:\n",
      "metadata": {}
    },
    {
      "cell_type": "code",
      "source": "new_input=np.arange(1, 100, 1).reshape(-1, 1)",
      "metadata": {
        "trusted": true
      },
      "execution_count": 78,
      "outputs": []
    },
    {
      "cell_type": "markdown",
      "source": "Fit the model:\n",
      "metadata": {}
    },
    {
      "cell_type": "code",
      "source": "lm.fit(X, Y)\nlm",
      "metadata": {
        "trusted": true
      },
      "execution_count": 80,
      "outputs": [
        {
          "execution_count": 80,
          "output_type": "execute_result",
          "data": {
            "text/plain": "LinearRegression()"
          },
          "metadata": {}
        }
      ]
    },
    {
      "cell_type": "markdown",
      "source": "Produce a prediction:\n",
      "metadata": {}
    },
    {
      "cell_type": "code",
      "source": "yhat=lm.predict(new_input)\nyhat[0:5]",
      "metadata": {
        "trusted": true
      },
      "execution_count": 81,
      "outputs": [
        {
          "name": "stderr",
          "text": "/lib/python3.9/site-packages/sklearn/base.py:450: UserWarning: X does not have valid feature names, but LinearRegression was fitted with feature names\n  warnings.warn(\n",
          "output_type": "stream"
        },
        {
          "execution_count": 81,
          "output_type": "execute_result",
          "data": {
            "text/plain": "array([37601.57247984, 36779.83910151, 35958.10572319, 35136.37234487,\n       34314.63896655])"
          },
          "metadata": {}
        }
      ]
    },
    {
      "cell_type": "markdown",
      "source": "We can plot the data:\n",
      "metadata": {}
    },
    {
      "cell_type": "code",
      "source": "plt.plot(new_input, yhat)\nplt.show()",
      "metadata": {
        "trusted": true
      },
      "execution_count": 82,
      "outputs": [
        {
          "output_type": "display_data",
          "data": {
            "text/plain": "<pyolite.display.Image at 0x666ac10>",
            "image/png": "[encoded data removed]"
          },
          "metadata": {}
        },
        {
          "output_type": "display_data",
          "data": {
            "text/plain": "<Figure size 432x288 with 0 Axes>"
          },
          "metadata": {}
        }
      ]
    },
    {
      "cell_type": "markdown",
      "source": "<h3>Decision Making: Determining a Good Model Fit</h3>\n",
      "metadata": {}
    },
    {
      "cell_type": "markdown",
      "source": "<p>Now that we have visualized the different models, and generated the R-squared and MSE values for the fits, how do we determine a good model fit?\n<ul>\n    <li><i>What is a good R-squared value?</i></li>\n</ul>\n</p>\n\n<p>When comparing models, <b>the model with the higher R-squared value is a better fit</b> for the data.\n<ul>\n    <li><i>What is a good MSE?</i></li>\n</ul>\n</p>\n\n<p>When comparing models, <b>the model with the smallest MSE value is a better fit</b> for the data.</p>\n\n<h4>Let's take a look at the values for the different models.</h4>\n<p>Simple Linear Regression: Using Highway-mpg as a Predictor Variable of Price.\n<ul>\n    <li>R-squared: 0.49659118843391759</li>\n    <li>MSE: 3.16 x10^7</li>\n</ul>\n</p>\n\n<p>Multiple Linear Regression: Using Horsepower, Curb-weight, Engine-size, and Highway-mpg as Predictor Variables of Price.\n<ul>\n    <li>R-squared: 0.80896354913783497</li>\n    <li>MSE: 1.2 x10^7</li>\n</ul>\n</p>\n\n<p>Polynomial Fit: Using Highway-mpg as a Predictor Variable of Price.\n<ul>\n    <li>R-squared: 0.6741946663906514</li>\n    <li>MSE: 2.05 x 10^7</li>\n</ul>\n</p>\n",
      "metadata": {}
    },
    {
      "cell_type": "markdown",
      "source": "<h3>Simple Linear Regression Model (SLR) vs Multiple Linear Regression Model (MLR)</h3>\n",
      "metadata": {}
    },
    {
      "cell_type": "markdown",
      "source": "<p>Usually, the more variables you have, the better your model is at predicting, but this is not always true. Sometimes you may not have enough data, you may run into numerical problems, or many of the variables may not be useful and even act as noise. As a result, you should always check the MSE and R^2.</p>\n\n<p>In order to compare the results of the MLR vs SLR models, we look at a combination of both the R-squared and MSE to make the best conclusion about the fit of the model.\n<ul>\n    <li><b>MSE</b>: The MSE of SLR is  3.16x10^7  while MLR has an MSE of 1.2 x10^7.  The MSE of MLR is much smaller.</li>\n    <li><b>R-squared</b>: In this case, we can also see that there is a big difference between the R-squared of the SLR and the R-squared of the MLR. The R-squared for the SLR (~0.497) is very small compared to the R-squared for the MLR (~0.809).</li>\n</ul>\n</p>\n\nThis R-squared in combination with the MSE show that MLR seems like the better model fit in this case compared to SLR.\n",
      "metadata": {}
    },
    {
      "cell_type": "markdown",
      "source": "<h3>Simple Linear Model (SLR) vs. Polynomial Fit</h3>\n",
      "metadata": {}
    },
    {
      "cell_type": "markdown",
      "source": "<ul>\n    <li><b>MSE</b>: We can see that Polynomial Fit brought down the MSE, since this MSE is smaller than the one from the SLR.</li> \n    <li><b>R-squared</b>: The R-squared for the Polynomial Fit is larger than the R-squared for the SLR, so the Polynomial Fit also brought up the R-squared quite a bit.</li>\n</ul>\n<p>Since the Polynomial Fit resulted in a lower MSE and a higher R-squared, we can conclude that this was a better fit model than the simple linear regression for predicting \"price\" with \"highway-mpg\" as a predictor variable.</p>\n",
      "metadata": {}
    },
    {
      "cell_type": "markdown",
      "source": "<h3>Multiple Linear Regression (MLR) vs. Polynomial Fit</h3>\n",
      "metadata": {}
    },
    {
      "cell_type": "markdown",
      "source": "<ul>\n    <li><b>MSE</b>: The MSE for the MLR is smaller than the MSE for the Polynomial Fit.</li>\n    <li><b>R-squared</b>: The R-squared for the MLR is also much larger than for the Polynomial Fit.</li>\n</ul>\n",
      "metadata": {}
    },
    {
      "cell_type": "markdown",
      "source": "<h2>Conclusion</h2>\n",
      "metadata": {}
    },
    {
      "cell_type": "markdown",
      "source": "<p>Comparing these three models, we conclude that <b>the MLR model is the best model</b> to be able to predict price from our dataset. This result makes sense since we have 27 variables in total and we know that more than one of those variables are potential predictors of the final car price.</p>\n",
      "metadata": {}
    }
  ]
}